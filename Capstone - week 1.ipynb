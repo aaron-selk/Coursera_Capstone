{
 "cells": [
  {
   "cell_type": "markdown",
   "metadata": {},
   "source": [
    "# IBM Data Science Professional Certificate Capstone Project "
   ]
  },
  {
   "cell_type": "markdown",
   "metadata": {},
   "source": [
    "## Centers of crime and nearby popular venues in Tacoma, Washington"
   ]
  },
  {
   "cell_type": "markdown",
   "metadata": {},
   "source": [
    "### Introduction\n",
    "This report explores relationships between locations with high rates of reported crime and popular venues nearby in Tacoma, Washington."
   ]
  },
  {
   "cell_type": "markdown",
   "metadata": {},
   "source": [
    "This report could be of interest to public policy makers, law enforcement, and the concerned citizens of Tacoma. If we find crimes clustered around certain types of venues, then there may be causation. My initial hypothosis is that we will find increased incidents of certain types of crimes, such as robbery and assult near certain types of venues such as night clubs and strip clubs. Let's find out what the data tells us."
   ]
  },
  {
   "cell_type": "markdown",
   "metadata": {},
   "source": [
    "### Data\n",
    "The Tacoma crime data used in this report is available from cityoftacoma.org at https://data.cityoftacoma.org/Public-Safety/Tacoma-Crime/wtqi-kpsn/data\n",
    "\n",
    "Data about venues is from Foursquare.com\n",
    "\n",
    "We will start by aggregating the crime data and plotting the largest aggregates on the map of Tacoma. Then we will leverage the Foursquare API to get recommended venues nearest to the crime centers. Finally, we will look for relationships between the types of crimes and the categories of the nearby venues."
   ]
  },
  {
   "cell_type": "code",
   "execution_count": null,
   "metadata": {
    "collapsed": true
   },
   "outputs": [],
   "source": []
  }
 ],
 "metadata": {
  "kernelspec": {
   "display_name": "Python 3",
   "language": "python",
   "name": "python3"
  },
  "language_info": {
   "codemirror_mode": {
    "name": "ipython",
    "version": 3
   },
   "file_extension": ".py",
   "mimetype": "text/x-python",
   "name": "python",
   "nbconvert_exporter": "python",
   "pygments_lexer": "ipython3",
   "version": "3.5.3"
  }
 },
 "nbformat": 4,
 "nbformat_minor": 2
}
