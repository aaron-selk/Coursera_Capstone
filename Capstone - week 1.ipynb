{
 "cells": [
  {
   "cell_type": "markdown",
   "metadata": {},
   "source": [
    "# IBM Data Science Professional Certificate Capstone Project "
   ]
  },
  {
   "cell_type": "markdown",
   "metadata": {},
   "source": [
    "## Centers of crime and nearby popular venues in Tacoma, Washington"
   ]
  },
  {
   "cell_type": "markdown",
   "metadata": {},
   "source": [
    "### Introduction\n",
    "This study explores relationships between locations with high rates of reported crime and popular venues nearby in Tacoma, Washington.  \n",
    "Tacoma is an important seaport city on the Puget Sound. [In 2012 Tacoma ranked as the 11th busiest container port in North America.](https://www.seattletimes.com/business/economy/rivalry-between-seattle-and-tacoma-ports-historic-detrimental/) The ports of Tacoma and Seattle, only about 30 miles apart, merged in 2015 to create the Northwest Seaport Alliance, [which is now the 5th largest port in North America.](https://www.porttechnology.org/news/top-5-ports-in-the-usa/)\n",
    "Tacoma, with an [estimated population of 217,827](https://www.census.gov/quickfacts/fact/table/tacomacitywashington/PST045219), has earned the nickname [\"Grit City\"](https://gritcitymag.com/2019/09/the-real-story-behind-tacomas-nickname-grit-city/) due to its heavy industry and tough working class character. Tacoma is also famous in the region for its [\"aroma\"](https://en.wikipedia.org/wiki/Aroma_of_Tacoma)."
   ]
  },
  {
   "cell_type": "markdown",
   "metadata": {},
   "source": [
    "This study could be of interest to public policy makers, law enforcement, and the concerned citizens of Tacoma. If we find crimes clustered around certain types of venues, then we can seek to understand why. We can even take action to prevent it, or at least avoid being a victim. My initial hypothosis is that we will find increased incidents of certain types of crimes, such as robbery and assult near certain types of venues such as night clubs and strip clubs. Let's find out what the data tells us."
   ]
  },
  {
   "cell_type": "markdown",
   "metadata": {},
   "source": [
    "### Data\n",
    "The Tacoma crime data used in this report is available from cityoftacoma.org at https://data.cityoftacoma.org/Public-Safety/Tacoma-Crime/wtqi-kpsn/data.\n",
    "This dataset contains 118k rows and 5 columns (Incident Number, Crime, Occurred On, Approximate Time, and intersection). The intersection column contain the latitude and longitude, which will need to be parsed into two new numeric columns. The incidents span the 6 year period from the beginning of 2014 to the end of 2019.\n",
    "\n",
    "Data about venues is from Foursquare.com. I will use the \"Venue Recomendations\" endpoint, which \"returns a list of recommended venues near the current location\". \n",
    "\n",
    "I will group the crime data by latitude, longitude, and crime type, and get the count of incidents of crime type at location. Then I will plot the top 100 groups by incident count on the map of Tacoma. Each of these top locations will be passed as the \"current location\" required by the \"Venue Recomendations\" endpoint. The recomended venues will be plotted on the map of tacoma along with the crime locations. \n",
    "\n",
    "To find correlations between crimes and venue categories, I will use one-hot encoding to turn the categorical data into numeric data. Then I will use Pearson correlation to determine if there are any significant relationships between high concentrations of particular types of crime and categories of popular venues in the same location, and also between different crime types at the same location."
   ]
  },
  {
   "cell_type": "code",
   "execution_count": null,
   "metadata": {
    "collapsed": true
   },
   "outputs": [],
   "source": []
  }
 ],
 "metadata": {
  "kernelspec": {
   "display_name": "Python 3",
   "language": "python",
   "name": "python3"
  },
  "language_info": {
   "codemirror_mode": {
    "name": "ipython",
    "version": 3
   },
   "file_extension": ".py",
   "mimetype": "text/x-python",
   "name": "python",
   "nbconvert_exporter": "python",
   "pygments_lexer": "ipython3",
   "version": "3.5.3"
  }
 },
 "nbformat": 4,
 "nbformat_minor": 2
}
